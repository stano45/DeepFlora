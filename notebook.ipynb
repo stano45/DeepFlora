{
  "cells": [
    {
      "cell_type": "code",
      "metadata": {
        "tags": [],
        "cell_id": "00000-fa7fd268-1130-4895-b63d-09031812af13",
        "deepnote_to_be_reexecuted": false,
        "source_hash": "de91947a",
        "execution_start": 1619817946007,
        "execution_millis": 5056,
        "deepnote_cell_type": "code"
      },
      "source": "import os\nimport json\nimport tensorflow as tf\nimport IPython\nimport functools\nimport matplotlib.pyplot as plt\nimport numpy as np\nimport io # iostreams\nfrom PIL import Image # image processing\nfrom tqdm import tqdm # ranges are displayed ",
      "execution_count": null,
      "outputs": []
    },
    {
      "cell_type": "code",
      "metadata": {
        "tags": [],
        "cell_id": "00001-868e502b-02ea-4150-8451-1b6fcc06e4cf",
        "deepnote_to_be_reexecuted": false,
        "source_hash": "cdab4f4",
        "execution_start": 1619817951067,
        "execution_millis": 1406,
        "deepnote_cell_type": "code"
      },
      "source": "!kaggle datasets download -d alxmamaev/flowers-recognition --unzip\n#!kaggle datasets download -d maysee/mushrooms-classification-common-genuss-images --unzip",
      "execution_count": null,
      "outputs": [
        {
          "name": "stdout",
          "text": "flowers-recognition.zip: Skipping, found more recently modified local copy (use --force to force download)\r\n",
          "output_type": "stream"
        }
      ]
    },
    {
      "cell_type": "code",
      "metadata": {
        "tags": [],
        "cell_id": "00001-1a25b563-e81a-4c34-8a3f-a50cd4e4a3d1",
        "deepnote_to_be_reexecuted": false,
        "source_hash": "a6c8c06c",
        "execution_start": 1619817952405,
        "execution_millis": 68,
        "deepnote_cell_type": "code"
      },
      "source": "os.listdir(os.getcwd())",
      "execution_count": null,
      "outputs": [
        {
          "output_type": "execute_result",
          "execution_count": 3,
          "data": {
            "text/plain": "['.deepnote',\n 'flowers_values',\n 'init.ipynb',\n 'mushrooms',\n 'flowers-recognition.zip',\n 'flowers',\n 'notebook.ipynb',\n 'requirements.txt']"
          },
          "metadata": {}
        }
      ]
    },
    {
      "cell_type": "code",
      "metadata": {
        "tags": [],
        "cell_id": "00002-b0445893-4dd2-4977-b1a4-4fe525f0aa5c",
        "deepnote_to_be_reexecuted": false,
        "source_hash": "cfcd0f7c",
        "execution_start": 1619817952406,
        "execution_millis": 68,
        "deepnote_cell_type": "code"
      },
      "source": "print(\"Flower types: \\n\", os.listdir(\"flowers\"))\nprint(\"Mushroom types: \\n\", os.listdir(\"mushrooms\"))",
      "execution_count": null,
      "outputs": [
        {
          "name": "stdout",
          "text": "Flower types: \n ['daisy', 'dandelion', 'rose', 'tulip', 'sunflower']\nMushroom types: \n ['Suillus', 'Agaricus', 'Cortinarius', 'Hygrocybe', 'Lactarius', 'Amanita', 'Russula', 'Boletus', 'Entoloma']\n",
          "output_type": "stream"
        }
      ]
    },
    {
      "cell_type": "code",
      "metadata": {
        "tags": [],
        "cell_id": "00003-55e1a423-b628-4fea-af44-8fa28ee50897",
        "deepnote_to_be_reexecuted": false,
        "source_hash": "b623e53d",
        "execution_start": 1619817952408,
        "execution_millis": 0,
        "deepnote_cell_type": "code"
      },
      "source": "",
      "execution_count": null,
      "outputs": []
    },
    {
      "cell_type": "code",
      "metadata": {
        "tags": [],
        "cell_id": "00006-95df014b-78f3-4e27-9844-c5ae1809202d",
        "deepnote_to_be_reexecuted": false,
        "source_hash": "4dbb5cc9",
        "execution_start": 1619817952450,
        "execution_millis": 0,
        "deepnote_cell_type": "code"
      },
      "source": "def nd_index(i, *args):\n    vals = []\n    for v in range(len(args)):\n        vals.append(i%args[v])\n        i = i // args[v]\n    return vals",
      "execution_count": null,
      "outputs": []
    },
    {
      "cell_type": "code",
      "metadata": {
        "tags": [],
        "cell_id": "00005-36be2fd4-d048-42d6-8ca2-9a6c0c1a65ef",
        "deepnote_to_be_reexecuted": false,
        "source_hash": "a84e585e",
        "execution_start": 1619817952450,
        "execution_millis": 53,
        "deepnote_cell_type": "code"
      },
      "source": "numbers = []\nfor i in tqdm(range(1, 20)):\n    for j in tqdm(range(1, 20)):\n        numbers.append(i*20+j)\n    ",
      "execution_count": null,
      "outputs": [
        {
          "name": "stderr",
          "text": "  0%|          | 0/19 [00:00<?, ?it/s]\n100%|██████████| 19/19 [00:00<00:00, 136225.26it/s]\n\n100%|██████████| 19/19 [00:00<00:00, 177883.43it/s]\n\n100%|██████████| 19/19 [00:00<00:00, 134614.49it/s]\n\n100%|██████████| 19/19 [00:00<00:00, 30828.54it/s]\n\n100%|██████████| 19/19 [00:00<00:00, 184045.67it/s]\n\n100%|██████████| 19/19 [00:00<00:00, 102563.42it/s]\n\n100%|██████████| 19/19 [00:00<00:00, 158432.95it/s]\n\n100%|██████████| 19/19 [00:00<00:00, 8302.96it/s]\n\n100%|██████████| 19/19 [00:00<00:00, 157182.99it/s]\n\n100%|██████████| 19/19 [00:00<00:00, 180706.98it/s]\n\n100%|██████████| 19/19 [00:00<00:00, 235078.99it/s]\n\n100%|██████████| 19/19 [00:00<00:00, 181944.69it/s]\n\n100%|██████████| 19/19 [00:00<00:00, 171749.52it/s]\n\n100%|██████████| 19/19 [00:00<00:00, 279620.27it/s]\n\n100%|██████████| 19/19 [00:00<00:00, 279620.27it/s]\n\n100%|██████████| 19/19 [00:00<00:00, 249036.80it/s]\n\n100%|██████████| 19/19 [00:00<00:00, 190650.18it/s]\n\n100%|██████████| 19/19 [00:00<00:00, 273854.90it/s]\n\n100%|██████████| 19/19 [00:00<00:00, 240035.47it/s]\n100%|██████████| 19/19 [00:00<00:00, 332.13it/s]\n",
          "output_type": "stream"
        }
      ]
    },
    {
      "cell_type": "code",
      "metadata": {
        "tags": [],
        "cell_id": "00006-7dee7df0-9d6f-4630-9a06-9ba44e9c14d9",
        "deepnote_to_be_reexecuted": false,
        "source_hash": "35f2b539",
        "execution_start": 1619817952550,
        "execution_millis": 1160484,
        "deepnote_cell_type": "code"
      },
      "source": "def mkdir (name):\n    if not os.path.exists(name):\n        os.mkdir(name)",
      "execution_count": null,
      "outputs": []
    },
    {
      "cell_type": "code",
      "metadata": {
        "tags": [],
        "cell_id": "00006-93edd589-487a-4f8e-b637-f531ebafa789",
        "deepnote_to_be_reexecuted": false,
        "source_hash": "ba510226",
        "execution_start": 1619817952551,
        "execution_millis": 2292665,
        "deepnote_cell_type": "code"
      },
      "source": "lens = {}\nimport os\nfor category in os.listdir(\"flowers\"):\n    lens.update({category: len(os.listdir(\"flowers\" + \"/\" + category))})\nprint(lens)",
      "execution_count": null,
      "outputs": [
        {
          "name": "stdout",
          "text": "{'daisy': 769, 'dandelion': 1055, 'rose': 784, 'tulip': 984, 'sunflower': 734}\n",
          "output_type": "stream"
        }
      ]
    },
    {
      "cell_type": "code",
      "metadata": {
        "tags": [],
        "cell_id": "00005-0fa4d33e-7db4-47e4-90ad-7344242b7fbc",
        "deepnote_to_be_reexecuted": false,
        "source_hash": "651ddc6a",
        "execution_start": 1619817974123,
        "execution_millis": 241078,
        "deepnote_cell_type": "code"
      },
      "source": "root = \"flowers\"\nout_root = \"flowers_values\"\n\nlist_of_categories = os.listdir(root)\n\nimg_size = (120, 240)\n\n# tensors are saved in this directory\nmkdir(out_root)\n\n# total number of iterations in two nested for loops\n# for category in list_of_categories:\n#     for image_index in len_category:\ntotal = len(list_of_categories) * 1054\nfor total_i in tqdm(range(total)):\n\n    if total_i < 3141:\n        continue\n    # it is like decimal to binary conversion: every total_i has a unique combination\n    # of category_i and image_i\n    category_i, image_i = nd_index(total_i, len(list_of_categories), 1054)\n\n    category = list_of_categories[category_i]\n\n    # a directory for the category itself\n    mkdir(out_root + \"/\" + category)\n\n    images_in_category = os.listdir(root+\"/\"+category)\n\n    # this gives us the real length of images\n    len_category = len(images_in_category)\n    if (image_i < len_category):\n\n        # image names are given as name.jpg\n        image_name = images_in_category[image_i]\n\n        # if the image format is not jpg then filter it \n        if (any([image_name.endswith(x) for x in [\".jpg\", \".jpeg\"]])):\n\n            # the json file name of respective image \n            new_image_name = \".\".join(image_name.split(\".\")[:-1]) + \".json\"\n\n            # image is loaded\n            image = Image.open(root+\"/\"+category+\"/\"+image_name)\n\n            # images resized to the given size\n            image = image.resize(img_size)\n\n            # 3d list, RGB values in separate height and width\n            new_tensors = tf.keras.preprocessing.image.img_to_array(image).tolist()\n\n            # write the new tensors as a separate file\n            with open(out_root + \"/\" + category + \"/\" + new_image_name, \"w\") as file:\n                file.write(json.dumps(new_tensors, indent=4))",
      "execution_count": null,
      "outputs": [
        {
          "name": "stderr",
          "text": "100%|██████████| 5270/5270 [04:01<00:00, 21.86it/s]\n",
          "output_type": "stream"
        }
      ]
    },
    {
      "cell_type": "code",
      "metadata": {
        "tags": [],
        "cell_id": "00007-77fbfadb-2e06-41f4-b729-5a5b47d10f28",
        "deepnote_to_be_reexecuted": false,
        "source_hash": "a045942b",
        "execution_start": 1619819733945,
        "execution_millis": 43,
        "deepnote_cell_type": "code"
      },
      "source": "#parameters of CNN\nnum_filters = 5\n\n#make model\ndef cnn_classifier(num_outputs = len(list_of_categories)):\n    Conv2D = functools.partial(tf.keras.layers.Conv2D, padding='same', activation='relu')\n    BatchNormalization = tf.keras.layers.BatchNormalization\n    Flatten = tf.keras.layers.Flatten\n    Dense = functools.partial(tf.keras.layers.Dense, activation='relu')\n    MaxPool2D = functools.partial(tf.keras.layers.MaxPool2D, pool_size=(2, 2), strides=None, padding=\"same\")\n    model = tf.keras.Sequential([    \n        # size = (120, 240)\n        \n        Conv2D(filters=32, kernel_size=5,  strides=2),\n        BatchNormalization(),\n        MaxPool2D(),\n        \n        Conv2D(filters=2*num_filters, kernel_size=5,  strides=2),\n        BatchNormalization(),\n        MaxPool2D(),\n\n        Conv2D(filters=4*num_filters, kernel_size=3,  strides=2),\n        BatchNormalization(),\n        MaxPool2D(),\n\n        Conv2D(filters=6*num_filters, kernel_size=3,  strides=2),\n        BatchNormalization(),\n\n        Flatten(),\n        Dense(512),\n        Dense(num_outputs, activation=\"softmax\"),\n        \n    ])\n    return model\n\ncnn_model = cnn_classifier()",
      "execution_count": null,
      "outputs": []
    },
    {
      "cell_type": "code",
      "metadata": {
        "tags": [],
        "cell_id": "00011-4db15d16-15e1-40ed-aa6d-cb92d9d6041b",
        "deepnote_to_be_reexecuted": false,
        "source_hash": "b6319374",
        "execution_start": 1619820319257,
        "execution_millis": 1,
        "deepnote_cell_type": "code"
      },
      "source": "cnn_model.compile(optimizer=\"sgd\", loss=\"\"\"sparse or normal categorical_crossentropy\"\"\", metrics=[\"accuracy\"])",
      "execution_count": null,
      "outputs": []
    },
    {
      "cell_type": "code",
      "metadata": {
        "tags": [],
        "cell_id": "00011-734a9c99-bcf2-42bd-ba41-1ddfc92a59be",
        "deepnote_to_be_reexecuted": false,
        "source_hash": "3a5fc52e",
        "execution_start": 1619819978938,
        "execution_millis": 71,
        "deepnote_cell_type": "code"
      },
      "source": "batch_size = 10\noutput = cnn_model(np.random.random(size = (batch_size, 120, 240, 3)))",
      "execution_count": null,
      "outputs": []
    },
    {
      "cell_type": "code",
      "metadata": {
        "tags": [],
        "cell_id": "00012-50ad620c-a697-4f37-a0f8-c23ca2ef1300",
        "deepnote_to_be_reexecuted": false,
        "source_hash": "ac9bccac",
        "execution_start": 1619820003329,
        "execution_millis": 1,
        "deepnote_cell_type": "code"
      },
      "source": "def predict (output):\n    return [list_of_categories[np.argmax(x)] for x in output]",
      "execution_count": null,
      "outputs": []
    },
    {
      "cell_type": "code",
      "metadata": {
        "tags": [],
        "cell_id": "00013-68eef78b-e109-439f-acc6-5f9fbe2c422b",
        "deepnote_to_be_reexecuted": false,
        "source_hash": "354940e0",
        "execution_start": 1619820011370,
        "execution_millis": 31,
        "deepnote_cell_type": "code"
      },
      "source": "predict(output)",
      "execution_count": null,
      "outputs": [
        {
          "output_type": "execute_result",
          "execution_count": 30,
          "data": {
            "text/plain": "['rose',\n 'rose',\n 'rose',\n 'rose',\n 'rose',\n 'rose',\n 'rose',\n 'rose',\n 'rose',\n 'rose']"
          },
          "metadata": {}
        }
      ]
    },
    {
      "cell_type": "code",
      "metadata": {
        "tags": [],
        "cell_id": "00015-f15d9548-4ff3-40be-a3bf-befd3202d0d3",
        "deepnote_to_be_reexecuted": false,
        "source_hash": "b623e53d",
        "execution_start": 1619820011387,
        "execution_millis": 5,
        "deepnote_cell_type": "code"
      },
      "source": "",
      "execution_count": null,
      "outputs": []
    },
    {
      "cell_type": "code",
      "metadata": {
        "tags": [],
        "cell_id": "00016-7943959f-0865-45cf-bc54-2d70c43de5b9",
        "deepnote_to_be_reexecuted": false,
        "source_hash": "b623e53d",
        "execution_start": 1619820011395,
        "execution_millis": 7,
        "deepnote_cell_type": "code"
      },
      "source": "",
      "execution_count": null,
      "outputs": []
    },
    {
      "cell_type": "code",
      "metadata": {
        "tags": [],
        "cell_id": "00017-79c8add4-ae6f-4086-a711-095c6acfdb71",
        "deepnote_cell_type": "code"
      },
      "source": "",
      "execution_count": null,
      "outputs": []
    },
    {
      "cell_type": "markdown",
      "source": "<a style='text-decoration:none;line-height:16px;display:flex;color:#5B5B62;padding:10px;justify-content:end;' href='https://deepnote.com?utm_source=created-in-deepnote-cell&projectId=647c4d53-d8d6-4b2a-b042-e3f4bdfbc4d0' target=\"_blank\">\n<img alt='Created in deepnote.com' style='display:inline;max-height:16px;margin:0px;margin-right:7.5px;' src='data:image/svg+xml;base64,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' > </img>\nCreated in <span style='font-weight:600;margin-left:4px;'>Deepnote</span></a>",
      "metadata": {
        "tags": [],
        "created_in_deepnote_cell": true,
        "deepnote_cell_type": "markdown"
      }
    }
  ],
  "nbformat": 4,
  "nbformat_minor": 2,
  "metadata": {
    "orig_nbformat": 2,
    "deepnote": {
      "is_reactive": false
    },
    "deepnote_notebook_id": "a9bf710b-8e74-4d15-adbe-c2329d5ebabd",
    "deepnote_execution_queue": []
  }
}